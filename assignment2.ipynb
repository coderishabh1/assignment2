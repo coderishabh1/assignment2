{
 "cells": [
  {
   "cell_type": "markdown",
   "id": "bcf5c607-c2e7-4ba9-afbc-28aa67a20bd7",
   "metadata": {},
   "source": [
    "####ans1\n",
    "the two values of boplean data type is \n",
    "true ans false\n",
    "eg"
   ]
  },
  {
   "cell_type": "code",
   "execution_count": 1,
   "id": "d8205cb6-756c-4f15-be69-0aebbc9e7645",
   "metadata": {},
   "outputs": [
    {
     "name": "stdout",
     "output_type": "stream",
     "text": [
      "False\n",
      "True\n"
     ]
    }
   ],
   "source": [
    "a=5\n",
    "b=6\n",
    "print (a>6)\n",
    "print (a<6)"
   ]
  },
  {
   "cell_type": "code",
   "execution_count": null,
   "id": "26c7705b-86ef-4c69-afe1-e2613aee6325",
   "metadata": {},
   "outputs": [],
   "source": [
    "##ans 2"
   ]
  },
  {
   "cell_type": "markdown",
   "id": "735b3b68-b6aa-4ae7-bb5d-1280423afacb",
   "metadata": {},
   "source": [
    "type of boolean operetor is given below\n",
    "1: and \n",
    "2: or \n",
    "3: not"
   ]
  },
  {
   "cell_type": "markdown",
   "id": "1dbc397e-a59d-4fb7-9ea2-35f1e3f8b43c",
   "metadata": {},
   "source": [
    "##ans 3\n",
    "(False and False) ==> False\n",
    "(False and True) ==> False\n",
    "(True and True) ==> True\n",
    "(False or False) ==> False\n",
    "(False or True) ==> True\n",
    "(True or True) ==> True\n",
    "not (True)==>  False\n",
    "not(False) ==> True"
   ]
  },
  {
   "cell_type": "code",
   "execution_count": 4,
   "id": "1240b4f7-9559-4979-b301-706d33d5ef7d",
   "metadata": {},
   "outputs": [
    {
     "name": "stdout",
     "output_type": "stream",
     "text": [
      "False\n"
     ]
    }
   ],
   "source": [
    "##ans4\n",
    "print ((5 > 4) and (3 == 5))"
   ]
  },
  {
   "cell_type": "code",
   "execution_count": 5,
   "id": "7f571147-c51f-4e13-a997-961aaef3d50f",
   "metadata": {},
   "outputs": [
    {
     "name": "stdout",
     "output_type": "stream",
     "text": [
      "False\n"
     ]
    }
   ],
   "source": [
    "print (not ((5 > 4) or (3 == 5)))"
   ]
  },
  {
   "cell_type": "code",
   "execution_count": 6,
   "id": "595c9d8a-f203-4a3c-b35c-19cbeb1143de",
   "metadata": {},
   "outputs": [
    {
     "name": "stdout",
     "output_type": "stream",
     "text": [
      "False\n"
     ]
    }
   ],
   "source": [
    "print ((True and True) and (True == False))"
   ]
  },
  {
   "cell_type": "code",
   "execution_count": 7,
   "id": "04ea724a-f307-4ea2-ac04-9e9a4776a851",
   "metadata": {},
   "outputs": [
    {
     "name": "stdout",
     "output_type": "stream",
     "text": [
      "True\n"
     ]
    }
   ],
   "source": [
    "print ((not False) or (not True))"
   ]
  },
  {
   "cell_type": "code",
   "execution_count": 15,
   "id": "aeb637ad-4328-421b-8023-cc9b2095dcbe",
   "metadata": {},
   "outputs": [
    {
     "name": "stdout",
     "output_type": "stream",
     "text": [
      "False\n"
     ]
    }
   ],
   "source": [
    "print (not(True))"
   ]
  },
  {
   "cell_type": "markdown",
   "id": "396d8735-c81c-43dd-b226-eb060f7c7824",
   "metadata": {},
   "source": [
    "##ans 5\n",
    "1: = equal to\n",
    "2: < greater than\n",
    "3: > less than\n",
    "4: != not eqal to\n",
    "5: >= greater than and equal to\n",
    "6: <= less than and eqal to"
   ]
  },
  {
   "cell_type": "code",
   "execution_count": null,
   "id": "54e41d76-cb77-45b2-9426-c614067c78a7",
   "metadata": {},
   "outputs": [],
   "source": [
    "##ans 6"
   ]
  },
  {
   "cell_type": "code",
   "execution_count": 16,
   "id": "076c81b9-0e9f-4f01-a34b-7e42a38d9624",
   "metadata": {},
   "outputs": [
    {
     "name": "stdout",
     "output_type": "stream",
     "text": [
      "False\n",
      "5\n"
     ]
    }
   ],
   "source": [
    "a=5\n",
    "b= 6\n",
    "print (a==b) #equality operetor used for the comparision purpose\n",
    "b= a # assignment operetor assign the value to tha variable\n",
    "print (b)"
   ]
  },
  {
   "cell_type": "code",
   "execution_count": 17,
   "id": "f5496a48-b092-44f7-8876-a3a22140a3a5",
   "metadata": {},
   "outputs": [
    {
     "name": "stdout",
     "output_type": "stream",
     "text": [
      "ham\n",
      "spam\n",
      "spam\n"
     ]
    }
   ],
   "source": [
    "##ans 7\n",
    "spam = 0\n",
    "if spam == 10:\n",
    "    print('eggs')\n",
    "if spam > 5:\n",
    "    print('bcon')\n",
    "else:\n",
    "    print('ham')\n",
    "    print('spam')\n",
    "    print('spam')"
   ]
  },
  {
   "cell_type": "code",
   "execution_count": null,
   "id": "4dc730df-d6d9-4124-8901-3c7c3180ed5a",
   "metadata": {},
   "outputs": [],
   "source": [
    "##ans8\n",
    "spam= int(input())\n",
    "if (spam==1):\n",
    "    print (\"hello\")\n",
    "elif(spam==2):\n",
    "    print (\"Howdy\")\n",
    "else:\n",
    "    print (\"Greating\")"
   ]
  }
 ],
 "metadata": {
  "kernelspec": {
   "display_name": "Python 3 (ipykernel)",
   "language": "python",
   "name": "python3"
  },
  "language_info": {
   "codemirror_mode": {
    "name": "ipython",
    "version": 3
   },
   "file_extension": ".py",
   "mimetype": "text/x-python",
   "name": "python",
   "nbconvert_exporter": "python",
   "pygments_lexer": "ipython3",
   "version": "3.10.6"
  }
 },
 "nbformat": 4,
 "nbformat_minor": 5
}
